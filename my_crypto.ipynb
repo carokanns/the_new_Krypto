{
 "cells": [
  {
   "cell_type": "code",
   "execution_count": null,
   "metadata": {},
   "outputs": [],
   "source": [
    "#%% \n",
    "# Komplett omtag av new_crypto.py\n",
    "# TODO: Gör om till Binance enligt TDD_krypto\n",
    "# TODO: Kolla ChatGPT om Binance nycklar och secrets\n",
    "# TODO: Läs in inflationsdata och gör gemensam df med krypto\n",
    "# TODO: Inkludera inflationsgraf med grafer ovan\n",
    "\n",
    "# TODO: Lägg till valet av my own crypto och hantera dem precis som ovan\n",
    "# TODO: Kopier new_skapa_modeller.ipynb till my_testa_modeller.ipynb\n",
    "# TODO: Skapa 1 (en) modell för prediction av valfri krypto\n",
    "# TODO: Testa olika modelltyper i my_skapa_modeller.ipynb\n",
    "\n",
    "# TODO: Flera sidor?\n",
    "# TODO: Slutligen: Byt namn till new_crypto.py igen innan publicering\n",
    "#%%\n"
   ]
  },
  {
   "cell_type": "code",
   "execution_count": null,
   "metadata": {},
   "outputs": [],
   "source": [
    "import pandas as pd\n",
    "import numpy as np\n",
    "import streamlit as st\n",
    "from pandas.tseries.offsets import DateOffset\n",
    "from binance.client import Client\n",
    "import datetime"
   ]
  },
  {
   "cell_type": "code",
   "execution_count": null,
   "metadata": {},
   "outputs": [],
   "source": [
    "\n",
    "@st.cache_data\n",
    "def get_data():\n",
    "\n",
    "    api_key = '2jxiCQ8OIWmU4PZH4xfwKEY9KYerDkSWzwNCqoaMzj41eJgWBsSqA3VYqkt2wmdX'\n",
    "    api_secret = 'YY1Qj1t0JZrE4tQdaBBxT8iwl2tbFalWp1FHjyZ9selBb6OnQ0Oj8aVdiXO7YLMz'\n",
    "\n",
    "    client = Client(api_key, api_secret)\n",
    "\n",
    "    # Hämta handelspar\n",
    "    symbols = client.get_all_tickers()\n",
    "\n",
    "    # Sätt upp en tom lista för att lagra close-priser\n",
    "    close_prices = {}\n",
    "\n",
    "    # Ange den tidsram du vill ha för historiska data\n",
    "    interval = Client.KLINE_INTERVAL_1DAY\n",
    "    start_time = \"2 month ago UTC\"\n",
    "\n",
    "    # Hämta close-priser för alla kryptovalutor\n",
    "    dates = None\n",
    "     #add a counter to print a message every 100 symbols\n",
    "    counter = 0\n",
    "    for symbol in symbols:   \n",
    "        try:\n",
    "            klines = client.get_historical_klines(symbol['symbol'], interval, start_time)\n",
    "            if dates is None:\n",
    "                # Extrahera och konvertera tidsstämplar till datum\n",
    "                dates = [datetime.datetime.fromtimestamp(int(kline[0]) / 1000).strftime('%Y-%m-%d') for kline in klines]\n",
    "            close_prices[symbol['symbol']] = [float(kline[4]) for kline in klines]\n",
    "            # every 100 symbols print a message\n",
    "            if counter % 100 == 0:\n",
    "                print(f\"Hämtade {counter} symboler\")\n",
    "        except Exception as e:\n",
    "            print(f\"Kunde inte hämta data för {symbol['symbol']}: {e}\")\n",
    "        counter += 1\n",
    "    # Konvertera close_prices-dikten till en pandas DataFrame\n",
    "    df = pd.DataFrame.from_dict(close_prices, orient='index').transpose()  \n",
    "    # Lägg till datum som index för DataFrame\n",
    "    df.index = pd.to_datetime(dates)                                   # type: ignore\n",
    "    print(df.head())\n",
    "    return df\n",
    "df=get_data()\n"
   ]
  },
  {
   "cell_type": "code",
   "execution_count": null,
   "metadata": {},
   "outputs": [],
   "source": [
    "# df.head()\n",
    "# df.to_csv('Tot_crypto.csv')"
   ]
  },
  {
   "cell_type": "code",
   "execution_count": null,
   "metadata": {},
   "outputs": [],
   "source": [
    "\n",
    "st.title('Performance av Kryptovalutor')\n",
    "\n",
    "months = int(st.number_input('Please enter the number of previous months', min_value=1, max_value=48, value=12))\n",
    "n_examine = int(st.number_input('Please enter the number of tickers to examine', min_value=1, max_value=25, value=1))"
   ]
  },
  {
   "cell_type": "code",
   "execution_count": null,
   "metadata": {},
   "outputs": [],
   "source": [
    "\n",
    "#%%\n",
    "def get_returns(df, months):\n",
    "    # This formula gives the day n months back in time\n",
    "    #           df.index[-1] - DateOffset(months=months)\n",
    "    # but we can not be sure it is a trading day so instead:\n",
    "    old_prices = df[:df.index[-1] - DateOffset(months = months)].tail(1).squeeze()   # n months back in time as a Series\n",
    "    recent_prices = df.loc[df.index[-1]]\n",
    "    returns_df = (recent_prices - old_prices) / old_prices\n",
    "    \n",
    "    return old_prices.name, returns_df  # date of the old prices and the returns\n"
   ]
  },
  {
   "cell_type": "code",
   "execution_count": null,
   "metadata": {},
   "outputs": [],
   "source": [
    "\n",
    "#%%\n",
    "# df = get_data()"
   ]
  },
  {
   "cell_type": "code",
   "execution_count": null,
   "metadata": {},
   "outputs": [],
   "source": [
    "months=1\n",
    "date, returns_df = get_returns(df, months)\n",
    "\n",
    "winners, losers = returns_df.nlargest(n_examine), returns_df.nsmallest(n_examine)\n",
    "winners.name,losers.name = 'Best','Worst'\n",
    "\n",
    "st.table(winners)\n",
    "st.table(losers)\n"
   ]
  },
  {
   "cell_type": "code",
   "execution_count": null,
   "metadata": {},
   "outputs": [],
   "source": [
    "\n",
    "bestPick = st.selectbox('Pick one for graph', winners.index, index=0)\n",
    "st.line_chart(df[bestPick]) # type: ignore\n",
    "\n",
    "worstPick = st.selectbox('Pick one for graph', losers.index, index=0)\n",
    "st.line_chart(df[worstPick]) # type: ignore\n",
    "\n"
   ]
  }
 ],
 "metadata": {
  "kernelspec": {
   "display_name": "base",
   "language": "python",
   "name": "python3"
  },
  "language_info": {
   "codemirror_mode": {
    "name": "ipython",
    "version": 3
   },
   "file_extension": ".py",
   "mimetype": "text/x-python",
   "name": "python",
   "nbconvert_exporter": "python",
   "pygments_lexer": "ipython3",
   "version": "3.9.13"
  },
  "orig_nbformat": 4
 },
 "nbformat": 4,
 "nbformat_minor": 2
}
