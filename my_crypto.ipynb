{
 "cells": [
  {
   "cell_type": "code",
   "execution_count": 31,
   "metadata": {},
   "outputs": [],
   "source": [
    "#%% \n",
    "# Komplett omtag av new_crypto.py\n",
    "# TODO: Läs in inflationsdata och gör gemensam df med krypto\n",
    "# HACK: Påbörjad dummy - fixa resten\n",
    "# TODO: Inkludera inflationsgraf med grafer ovan\n",
    "\n",
    "# TODO: Lägg till valet av my own crypto och hantera dem precis som ovan\n",
    "# TODO: Kopier new_skapa_modeller.ipynb till my_testa_modeller.ipynb\n",
    "# TODO: Skapa 1 (en) modell för prediction av valfri krypto\n",
    "# TODO: Testa olika modelltyper i my_skapa_modeller.ipynb\n",
    "\n",
    "# TODO: Flera sidor?\n",
    "# TODO: Slutligen: Byt namn till new_crypto.py igen innan publicering\n",
    "#%%\n"
   ]
  },
  {
   "cell_type": "code",
   "execution_count": 32,
   "metadata": {},
   "outputs": [],
   "source": [
    "import pandas as pd\n",
    "import numpy as np\n",
    "import streamlit as st\n",
    "from pandas.tseries.offsets import DateOffset\n",
    "from binance.client import Client\n",
    "import datetime"
   ]
  },
  {
   "cell_type": "code",
   "execution_count": 33,
   "metadata": {},
   "outputs": [
    {
     "name": "stdout",
     "output_type": "stream",
     "text": [
      "Hämtade 0 symboler\n",
      "Hämtade 100 symboler\n",
      "Hämtade 200 symboler\n",
      "Hämtade 300 symboler\n",
      "Hämtade 400 symboler\n",
      "             BTCUSDT  ETHUSDT  BNBUSDT  BCCUSDT  NEOUSDT  LTCUSDT  QTUMUSDT  \\\n",
      "2023-02-07  23240.46  1671.03    333.0      NaN     9.12   100.86     2.961   \n",
      "2023-02-08  22963.00  1650.43    328.2      NaN     9.18    99.22     2.927   \n",
      "2023-02-09  21796.35  1545.35    306.2      NaN     8.93    92.05     2.657   \n",
      "2023-02-10  21625.19  1513.06    305.8      NaN     9.03    93.34     2.745   \n",
      "2023-02-11  21862.55  1538.51    310.4      NaN     8.92    94.28     2.743   \n",
      "\n",
      "            ADAUSDT  XRPUSDT  EOSUSDT  ...  GASUSDT  GLMUSDT  PROMUSDT  \\\n",
      "2023-02-07   0.3989   0.4036    1.112  ...    3.759   0.2599      5.82   \n",
      "2023-02-08   0.3942   0.3975    1.084  ...    3.553   0.2495      5.41   \n",
      "2023-02-09   0.3622   0.3819    1.044  ...    3.643   0.2516      5.31   \n",
      "2023-02-10   0.3581   0.3817    1.052  ...    3.397   0.2469      5.03   \n",
      "2023-02-11   0.3684   0.3833    1.057  ...    3.439   0.2467      5.05   \n",
      "\n",
      "             QKCUSDT  UFTUSDT   IDUSDT  ARBUSDT  LOOMUSDT  OAXUSDT  RDNTUSDT  \n",
      "2023-02-07  0.011834   0.4587  0.40650   1.3217   0.06728   0.4462    0.3894  \n",
      "2023-02-08  0.011344   0.4350  0.52883   1.2727   0.07121   0.3945    0.3706  \n",
      "2023-02-09  0.011431   0.4583  0.52950   1.2178   0.06971   0.3620    0.3597  \n",
      "2023-02-10  0.011188   0.4299  0.47433   1.2818   0.06549   0.3245    0.3351  \n",
      "2023-02-11  0.010801   0.4268  0.48751   1.1657   0.06669   0.3181    0.3224  \n",
      "\n",
      "[5 rows x 440 columns]\n"
     ]
    }
   ],
   "source": [
    "\n",
    "@st.cache_data\n",
    "def get_data():\n",
    "\n",
    "    api_key = '2jxiCQ8OIWmU4PZH4xfwKEY9KYerDkSWzwNCqoaMzj41eJgWBsSqA3VYqkt2wmdX'\n",
    "    api_secret = 'YY1Qj1t0JZrE4tQdaBBxT8iwl2tbFalWp1FHjyZ9selBb6OnQ0Oj8aVdiXO7YLMz'\n",
    "\n",
    "    client = Client(api_key, api_secret)\n",
    "\n",
    "    # Hämta handelspar\n",
    "    symbols = client.get_all_tickers()\n",
    "    symbols = [symbol for symbol in symbols if symbol['symbol'].endswith('USDT')]\n",
    "\n",
    "    # Sätt upp en tom lista för att lagra close-priser\n",
    "    close_prices = {}\n",
    "\n",
    "    # Ange den tidsram du vill ha för historiska data\n",
    "    interval = Client.KLINE_INTERVAL_1DAY\n",
    "    start_time = \"2 month ago UTC\"\n",
    "\n",
    "    # Hämta close-priser för alla kryptovalutor\n",
    "    dates = None\n",
    "     #add a counter to print a message every 100 symbols\n",
    "    counter = 0\n",
    "    for symbol in symbols:   \n",
    "        try:\n",
    "            klines = client.get_historical_klines(symbol['symbol'], interval, start_time)\n",
    "            if dates is None:\n",
    "                # Extrahera och konvertera tidsstämplar till datum\n",
    "                dates = [datetime.datetime.fromtimestamp(int(kline[0]) / 1000).strftime('%Y-%m-%d') for kline in klines]\n",
    "            close_prices[symbol['symbol']] = [float(kline[4]) for kline in klines]\n",
    "            # every 100 symbols print a message\n",
    "            if counter % 100 == 0:\n",
    "                print(f\"Hämtade {counter} symboler\")\n",
    "        except Exception as e:\n",
    "            print(f\"Kunde inte hämta data för {symbol['symbol']}: {e}\")\n",
    "        counter += 1\n",
    "    # Konvertera close_prices-dikten till en pandas DataFrame\n",
    "    df = pd.DataFrame.from_dict(close_prices, orient='index').transpose()  \n",
    "    # Lägg till datum som index för DataFrame\n",
    "    df.index = pd.to_datetime(dates)                                   # type: ignore\n",
    "    print(df.head())\n",
    "    return df\n",
    "df=get_data()\n"
   ]
  },
  {
   "attachments": {},
   "cell_type": "markdown",
   "metadata": {},
   "source": [
    "## Inflation"
   ]
  },
  {
   "cell_type": "code",
   "execution_count": 34,
   "metadata": {},
   "outputs": [],
   "source": [
    "def add_horizon_columns(inflation, horizons):\n",
    "    for horizon in horizons:\n",
    "        inflation['US_inflation_'+str(horizon)] = inflation['US_inflation'].rolling(horizon, 1).mean()\n",
    "        inflation['SE_inflation_'+str(horizon)] = inflation['SE_inflation'].rolling(horizon, 1).mean()\n",
    "    return inflation\n"
   ]
  },
  {
   "cell_type": "code",
   "execution_count": 35,
   "metadata": {},
   "outputs": [],
   "source": [
    "\n",
    "def initiate_data(inflation, df_dates, lang_dict, value_name):\n",
    "    inflation = inflation.melt(id_vars=['Year'], var_name='month', value_name=value_name)\n",
    "    inflation['month'] = inflation['month'].map(lang_dict)\n",
    "    inflation['date'] = pd.to_datetime(inflation['Year'].astype(str) + '-' + inflation['month'].astype(str))\n",
    "    inflation.set_index('date', inplace=True)\n",
    "    inflation.drop(['Year', 'month'], axis=1, inplace=True)\n",
    "    inflation = df_dates.merge(inflation, how='left', left_on='date', right_index=True)\n",
    "    inflation.set_index('date', inplace=True)\n",
    "    inflation[value_name] = inflation[value_name].astype(str)\n",
    "    inflation[value_name] = inflation[value_name].str.replace(',', '.')\n",
    "    inflation[value_name] = inflation[value_name].str.replace(chr(8209), chr(45))\n",
    "    inflation[value_name] = inflation[value_name].astype(float)\n",
    "    inflation[value_name].interpolate(method='linear', inplace=True)\n",
    "    return inflation\n"
   ]
  },
  {
   "cell_type": "code",
   "execution_count": 36,
   "metadata": {},
   "outputs": [],
   "source": [
    "#%%\n",
    "def get_inflation_data():\n",
    "    df_dates = pd.DataFrame(pd.date_range(\n",
    "        '1988-12-01', pd.to_datetime('today').date()), columns=['date'])\n",
    "\n",
    "    US_inflation = pd.read_html(\n",
    "        'https://www.usinflationcalculator.com/inflation/current-inflation-rates/')\n",
    "    US_inflation = US_inflation[0]\n",
    "    US_inflation.replace(to_replace=r'^Avail.*$',\n",
    "                         value=np.nan, regex=True, inplace=True)\n",
    "    US_inflation.columns = US_inflation.iloc[0]\n",
    "    US_inflation.drop(US_inflation.index[0], inplace=True)\n",
    "    US_inflation.drop('Ave', axis=1, inplace=True)\n",
    "\n",
    "    SE_inflation = pd.read_html(\n",
    "        'https://www.scb.se/hitta-statistik/statistik-efter-amne/priser-och-konsumtion/konsumentprisindex/konsumentprisindex-kpi/pong/tabell-och-diagram/konsumentprisindex-med-fast-ranta-kpif-och-kpif-xe/kpif-12-manadersforandring/')\n",
    "    SE_inflation = SE_inflation[0]\n",
    "    SE_inflation.rename(columns={'År': 'Year'}, inplace=True)\n",
    "\n",
    "    se_dict = dict(Jan='1', Feb='2', Mar='3', Apr='4', Maj='5', Jun='6',\n",
    "                   Jul='7', Aug='8', Sep='9', Okt='10', Nov='11', Dec='12')\n",
    "    us_dict = dict(Jan='1', Feb='2', Mar='3', Apr='4', May='5', Jun='6',\n",
    "                   Jul='7', Aug='8', Sep='9', Oct='10', Nov='11', Dec='12')\n",
    "\n",
    "    SE_inflation = initiate_data(SE_inflation, df_dates, se_dict, value_name='SE_inflation')\n",
    "    SE_inflation['SE_inflation'] = SE_inflation['SE_inflation'] / 10\n",
    "\n",
    "    US_inflation = initiate_data(US_inflation, df_dates, us_dict, value_name='US_inflation')\n",
    "\n",
    "    inflations = pd.concat([US_inflation, SE_inflation], axis=1)\n",
    "    inflations = inflations.dropna()\n",
    "    inflations = add_horizon_columns(inflations, [75, 90, 250])\n",
    "    return inflations\n",
    "\n"
   ]
  },
  {
   "cell_type": "code",
   "execution_count": 37,
   "metadata": {},
   "outputs": [],
   "source": [
    "\n",
    "st.title('Performance av Kryptovalutor')\n",
    "\n",
    "months = int(st.number_input('Please enter the number of previous months', min_value=1, max_value=48, value=12))\n",
    "n_examine = int(st.number_input('Please enter the number of tickers to examine', min_value=1, max_value=25, value=1))"
   ]
  },
  {
   "cell_type": "code",
   "execution_count": 38,
   "metadata": {},
   "outputs": [],
   "source": [
    "\n",
    "#%%\n",
    "def get_returns(df, months):\n",
    "    # This formula gives the day n months back in time\n",
    "    #           df.index[-1] - DateOffset(months=months)\n",
    "    # but we can not be sure it is a trading day so instead:\n",
    "    old_prices = df[:df.index[-1] - DateOffset(months = months)].tail(1).squeeze()   # n months back in time as a Series\n",
    "    recent_prices = df.loc[df.index[-1]]\n",
    "    returns_df = (recent_prices - old_prices) / old_prices\n",
    "    \n",
    "    return old_prices.name, returns_df  # date of the old prices and the returns\n"
   ]
  },
  {
   "cell_type": "code",
   "execution_count": 39,
   "metadata": {},
   "outputs": [
    {
     "data": {
      "text/plain": [
       "DeltaGenerator(_root_container=0, _provided_cursor=None, _parent=None, _block_type=None, _form_data=None)"
      ]
     },
     "execution_count": 39,
     "metadata": {},
     "output_type": "execute_result"
    }
   ],
   "source": [
    "months=1\n",
    "date, returns_df = get_returns(df, months)\n",
    "inflations = get_inflation_data()\n",
    "winners, losers = returns_df.nlargest(months), returns_df.nsmallest(months)\n",
    "winners.name,losers.name = 'Best','Worst'\n",
    "\n",
    "st.table(winners)\n",
    "st.table(losers)\n"
   ]
  },
  {
   "cell_type": "code",
   "execution_count": 40,
   "metadata": {},
   "outputs": [
    {
     "data": {
      "text/plain": [
       "DeltaGenerator(_root_container=0, _provided_cursor=None, _parent=None, _block_type=None, _form_data=None)"
      ]
     },
     "execution_count": 40,
     "metadata": {},
     "output_type": "execute_result"
    }
   ],
   "source": [
    "\n",
    "bestPick = st.selectbox('Pick one for graph', winners.index, index=0)\n",
    "st.line_chart(df[bestPick]) # type: ignore\n",
    "\n",
    "worstPick = st.selectbox('Pick one for graph', losers.index, index=0)\n",
    "st.line_chart(df[worstPick]) # type: ignore\n",
    "\n",
    "# make a line graph of the inflations\n",
    "st.line_chart(inflations) # type: ignore\n",
    "    "
   ]
  },
  {
   "cell_type": "code",
   "execution_count": 44,
   "metadata": {},
   "outputs": [
    {
     "data": {
      "text/plain": [
       "<Axes: xlabel='date'>"
      ]
     },
     "execution_count": 44,
     "metadata": {},
     "output_type": "execute_result"
    },
    {
     "data": {
      "image/png": "[encoded data removed]",
      "text/plain": [
       "<Figure size 640x480 with 1 Axes>"
      ]
     },
     "metadata": {},
     "output_type": "display_data"
    }
   ],
   "source": [
    " # pandas line chart inflations\n",
    "inflations[['US_inflation','SE_inflation']].plot()"
   ]
  },
  {
   "cell_type": "code",
   "execution_count": 46,
   "metadata": {},
   "outputs": [
    {
     "data": {
      "text/plain": [
       "SXPUSDT    1.572234\n",
       "Name: Best, dtype: float64"
      ]
     },
     "execution_count": 46,
     "metadata": {},
     "output_type": "execute_result"
    }
   ],
   "source": [
    "winners\n"
   ]
  },
  {
   "cell_type": "code",
   "execution_count": null,
   "metadata": {},
   "outputs": [],
   "source": []
  }
 ],
 "metadata": {
  "kernelspec": {
   "display_name": "base",
   "language": "python",
   "name": "python3"
  },
  "language_info": {
   "codemirror_mode": {
    "name": "ipython",
    "version": 3
   },
   "file_extension": ".py",
   "mimetype": "text/x-python",
   "name": "python",
   "nbconvert_exporter": "python",
   "pygments_lexer": "ipython3",
   "version": "3.9.13"
  },
  "orig_nbformat": 4
 },
 "nbformat": 4,
 "nbformat_minor": 2
}
