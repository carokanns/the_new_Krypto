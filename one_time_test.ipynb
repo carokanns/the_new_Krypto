{
 "cells": [
  {
   "attachments": {},
   "cell_type": "markdown",
   "metadata": {},
   "source": [
    "## Bestäm vilka kryptovalutor som ska användas i yFinance\n",
    "Tar fram alla kryptovalutor som finns på Binance och deras historiska Close-priser  \n",
    "Därefter selekterar vi ut och behåller de kolumner som inte har för många NaN's  \n",
    "\n",
    "Slutligen Testar vi vilka av dessa som kan användas i yfinance  \n",
    "Spara undan dessa ticker-namn i en fil  "
   ]
  },
  {
   "cell_type": "code",
   "execution_count": 83,
   "metadata": {},
   "outputs": [],
   "source": [
    "# Importerar bibliotek\n",
    "\n",
    "import pandas as pd \n",
    "import os \n",
    "\n",
    "from binance.client import Client\n",
    "import yfinance as yf \n",
    "import datetime"
   ]
  },
  {
   "cell_type": "code",
   "execution_count": 84,
   "metadata": {},
   "outputs": [],
   "source": [
    "\"\"\"\n",
    "    Funktionen hämta_från_scalers() hämtar ticker-namn från en specifik mapp som heter \"scalers\". \n",
    "    Dessa ticker-namn representerar olika kryptovalutor. \n",
    "    Funktionen returnerar en lista med dessa namn.\n",
    "\"\"\"\n",
    "def hämta_från_scalers():\n",
    "    # Detta fungerar enbart om vi har sparat StdScaler för Binance-tickers i mappen \"scalers\"\n",
    "    folder_path = \"scalers/\"\n",
    "    file_names = os.listdir(folder_path)\n",
    "\n",
    "    binance_names = []\n",
    "    for file_name in file_names:\n",
    "        if file_name.endswith(\"_scaler.joblib\"):\n",
    "            crypto_name = file_name[:-14]  # 14 är längden på \"_scaler.joblib\"\n",
    "            binance_names.append(crypto_name) # type: ignore\n",
    "\n",
    "    print(len(binance_names),binance_names)\n",
    "\n",
    "    return binance_names\n"
   ]
  },
  {
   "cell_type": "code",
   "execution_count": 85,
   "metadata": {},
   "outputs": [],
   "source": [
    "\n",
    "def hämta_från_Binance():\n",
    "    \"\"\"\n",
    "    Funktionen hämta_från_Binance() samlar in historisk prisinformation \n",
    "    för olika kryptovalutor från Binance. \n",
    "    Den hämtar informationen via Binance's API och returnerar en pandas DataFrame \n",
    "    som innehåller all denna information.\n",
    "    Denna kör vi om hämta_från_scalers() inte är aktuell\n",
    "    \"\"\"\n",
    "    \n",
    "    MAX_MONTHS = 24\n",
    "    api_key = '2jxiCQ8OIWmU4PZH4xfwKEY9KYerDkSWzwNCqoaMzj41eJgWBsSqA3VYqkt2wmdX'\n",
    "    api_secret = 'YY1Qj1t0JZrE4tQdaBBxT8iwl2tbFalWp1FHjyZ9selBb6OnQ0Oj8aVdiXO7YLMz'\n",
    "\n",
    "    client = Client(api_key, api_secret)\n",
    "\n",
    "    # Hämta handelspar\n",
    "    symbols = client.get_all_tickers()\n",
    "    symbols = [\n",
    "        symbol for symbol in symbols if symbol['symbol'].endswith('USDT')]\n",
    "\n",
    "    # Sätt upp en tom lista för att lagra close-priser\n",
    "    close_prices = {}\n",
    "\n",
    "    # Ange den tidsram du vill ha för historiska data\n",
    "    interval = Client.KLINE_INTERVAL_1DAY\n",
    "    start_time = f\"{MAX_MONTHS} month ago UTC\"\n",
    "\n",
    "    # Hämta close-priser för alla kryptovalutor\n",
    "    dates = None\n",
    "\n",
    "    for idx, symbol in enumerate(symbols):\n",
    "        try:\n",
    "            klines = client.get_historical_klines(\n",
    "                symbol['symbol'], interval, start_time)\n",
    "            if dates is None:\n",
    "                # Extrahera och konvertera tidsstämplar till datum\n",
    "                dates = [datetime.datetime.fromtimestamp(\n",
    "                    int(kline[0]) / 1000).strftime('%Y-%m-%d') for kline in klines]\n",
    "            close_prices[symbol['symbol']] = [\n",
    "                float(kline[4]) for kline in klines]\n",
    "        except Exception as e:\n",
    "            print(f\"Kunde inte hämta data för {symbol['symbol']}: {e}\")\n",
    "\n",
    "        # Update the progress bar\n",
    "        \n",
    "        if idx+1 == len(symbols):\n",
    "            progress_text = f\"Done! last symbol . . . . . . . . {symbol['symbol']} fetched.\"\n",
    "        elif (idx+1) % 20 == 0:\n",
    "            progress_text = f\"This will take several minutes. Symbol number {idx+1} of {len(symbols)}: . . . . . . . . {symbol['symbol']}\"\n",
    "            print(progress_text)\n",
    "\n",
    "    # Konvertera close_prices-dikten till en pandas DataFrame\n",
    "    df = pd.DataFrame.from_dict(close_prices, orient='index').transpose()\n",
    "    # Lägg till datum som index för DataFrame\n",
    "    # type: ignore\n",
    "    df.index = pd.to_datetime(dates)  # type: ignore\n",
    "    # print(df.head())\n",
    "    print(len(df.columns),  df.columns.tolist())\n",
    "    return df\n"
   ]
  },
  {
   "cell_type": "code",
   "execution_count": null,
   "metadata": {},
   "outputs": [],
   "source": [
    "# get all Binance tickers Close prices\n",
    "\n",
    "if False:  # om scalers innehåller Binance och är aktuella \n",
    "    binance_names = hämta_från_scalers()\n",
    "else:\n",
    "    df_binance = hämta_från_Binance()\n",
    "    binance_names = df_binance.columns.tolist()\n",
    "    \n",
    "# Omvandlar koden ticker-namnen från Binance-format till yfinance-format.  \n",
    "yf_names = [name.replace(\"USDT\", \"-USD\") for name in binance_names]\n",
    "print(len(yf_names),yf_names)"
   ]
  },
  {
   "attachments": {},
   "cell_type": "markdown",
   "metadata": {},
   "source": [
    "### Kolla vilka som finns i yfinace"
   ]
  },
  {
   "cell_type": "code",
   "execution_count": null,
   "metadata": {},
   "outputs": [],
   "source": [
    "# Funktionen get_filtered_names() tar en lista med ticker-namn och returnerar en ny lista \n",
    "# som endast innehåller de ticker-namn som är giltiga i yfinance.\n",
    "\n",
    "def get_filtered_names(yf_names):\n",
    "    # Hämta giltiga tickers från yfinance\n",
    "    valid_tickers = set()\n",
    "\n",
    "    for name in yf_names:\n",
    "        ticker = yf.Ticker(name)\n",
    "        if ticker.history(period=\"5d\").empty == False:  # Kollar om ticker har data för att avgöra om den är giltig eller inte\n",
    "            valid_tickers.add(name)\n",
    "\n",
    "    filtered_names = list(set(yf_names).intersection(valid_tickers))\n",
    "\n",
    "    print(len(filtered_names),filtered_names)\n",
    "    return filtered_names\n",
    "filtered_names = get_filtered_names(yf_names)"
   ]
  },
  {
   "cell_type": "code",
   "execution_count": 101,
   "metadata": {},
   "outputs": [
    {
     "data": {
      "text/plain": [
       "365"
      ]
     },
     "execution_count": 101,
     "metadata": {},
     "output_type": "execute_result"
    }
   ],
   "source": [
    "len(filtered_names)"
   ]
  },
  {
   "cell_type": "code",
   "execution_count": 102,
   "metadata": {},
   "outputs": [
    {
     "name": "stdout",
     "output_type": "stream",
     "text": [
      "[*********************100%***********************]  365 of 365 completed\n",
      "730 days 00:00:00 från 2021-05-09 00:00:00 till 2023-05-09 00:00:00\n"
     ]
    }
   ],
   "source": [
    "# get the close-prices for the tickers in filtered_names. Use yfinance. \n",
    "time_period = '24mo'  # 24 months back\n",
    "interval = '1d'  # daily data\n",
    "def get_close_prices(filtered_names):    \n",
    "    data = yf.download(filtered_names, interval='1d', period=time_period, group_by='ticker', auto_adjust=True)\n",
    "    df = pd.DataFrame(data.xs('Close', level=1, axis=1))\n",
    "    return df\n",
    "\n",
    "df = get_close_prices(filtered_names)\n"
   ]
  },
  {
   "cell_type": "code",
   "execution_count": 103,
   "metadata": {},
   "outputs": [
    {
     "name": "stdout",
     "output_type": "stream",
     "text": [
      "730 dagar:  2021-05-09 - 2023-05-09\n"
     ]
    }
   ],
   "source": [
    "\n",
    "print((df.index[-1].date() - df.index[0].date()).days, 'dagar: ', df.index[0].date(),'-',df.index[-1].date())"
   ]
  },
  {
   "cell_type": "code",
   "execution_count": 104,
   "metadata": {},
   "outputs": [
    {
     "name": "stdout",
     "output_type": "stream",
     "text": [
      "365 kolumner totalt\n",
      "321 kolumner med minst 657 rader utan nan efter dropna\n",
      "650 rader med någon nan \n",
      "508 rader utan nan\n",
      "Efter interpollate: 11 rader med någon nan \n",
      "720 rader utan nan\n",
      "(731, 321)\n"
     ]
    }
   ],
   "source": [
    "\n",
    "def preprocessing_currency(df_):\n",
    "    # kontrollera att index är dateindex\n",
    "    if type(df_.index[0]) != pd.Timestamp:\n",
    "        # break with error\n",
    "        print('index är inte dateindex')\n",
    "        return None\n",
    "    \n",
    "    df = df_.copy()\n",
    "    df = df.drop_duplicates()\n",
    "    print(len(df.columns), 'kolumner totalt')\n",
    "    s=int(0.9*len(df))\n",
    "    # remove all columns where there are more than s nan values\n",
    "    df = df.dropna(axis=1, thresh=s)\n",
    "    print(len(df.columns), f'kolumner med minst {s} rader utan nan efter dropna')\n",
    "    print(f'{df.isna().sum().sum()} rader med någon nan \\n{len(df)-df.isna().any().sum()} rader utan nan')\n",
    "    # interpolate missing values\n",
    "    df.interpolate(method='linear', inplace=True)\n",
    "    print(f'Efter interpollate: {df.isna().any().sum()} rader med någon nan \\n{len(df)-df.isna().any().sum()} rader utan nan')\n",
    "    print(df.shape)\n",
    "    \n",
    "    return df\n",
    "\n",
    "df = preprocessing_currency(df)"
   ]
  },
  {
   "attachments": {},
   "cell_type": "markdown",
   "metadata": {},
   "source": [
    "### Spara alla godkända tickers i yf till en fil"
   ]
  },
  {
   "cell_type": "code",
   "execution_count": 108,
   "metadata": {},
   "outputs": [
    {
     "name": "stdout",
     "output_type": "stream",
     "text": [
      "Lista med 321 godkända tickers sparad iyf_tickers.txt\n"
     ]
    }
   ],
   "source": [
    "# spara df.columns i en lista till en fil\n",
    "filnamn='yf_tickers.txt'\n",
    "with open( filnamn, 'w') as f:\n",
    "    for item in df.columns.tolist():\n",
    "        f.write(\"%s\\n\" % item)\n",
    "print(f'Lista med {len(df.columns)} godkända tickers sparad i {filnamn}')\n"
   ]
  }
 ],
 "metadata": {
  "kernelspec": {
   "display_name": "base",
   "language": "python",
   "name": "python3"
  },
  "language_info": {
   "codemirror_mode": {
    "name": "ipython",
    "version": 3
   },
   "file_extension": ".py",
   "mimetype": "text/x-python",
   "name": "python",
   "nbconvert_exporter": "python",
   "pygments_lexer": "ipython3",
   "version": "3.9.13"
  },
  "orig_nbformat": 4
 },
 "nbformat": 4,
 "nbformat_minor": 2
}
