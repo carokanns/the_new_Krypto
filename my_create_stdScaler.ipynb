{
 "cells": [
  {
   "cell_type": "code",
   "execution_count": 1,
   "metadata": {},
   "outputs": [],
   "source": [
    "import pandas as pd\n",
    "import numpy as np\n",
    "\n",
    "from pandas.tseries.offsets import DateOffset\n",
    "from binance.client import Client\n",
    "from datetime import datetime as dt\n"
   ]
  },
  {
   "cell_type": "code",
   "execution_count": 2,
   "metadata": {},
   "outputs": [],
   "source": [
    "MAX_MONTHS = 24"
   ]
  },
  {
   "cell_type": "code",
   "execution_count": null,
   "metadata": {},
   "outputs": [],
   "source": [
    "import time\n",
    "def get_data():\n",
    "    # take the time\n",
    "    start_time = time.time()\n",
    "    \n",
    "    api_key = '2jxiCQ8OIWmU4PZH4xfwKEY9KYerDkSWzwNCqoaMzj41eJgWBsSqA3VYqkt2wmdX'\n",
    "    api_secret = 'YY1Qj1t0JZrE4tQdaBBxT8iwl2tbFalWp1FHjyZ9selBb6OnQ0Oj8aVdiXO7YLMz'\n",
    "\n",
    "    client = Client(api_key, api_secret)\n",
    "\n",
    "    # Hämta handelspar\n",
    "    symbols = client.get_all_tickers()\n",
    "    symbols = [\n",
    "        symbol for symbol in symbols if symbol['symbol'].endswith('USDT')]\n",
    "\n",
    "    # Sätt upp en tom lista för att lagra close-priser\n",
    "    close_prices = {}\n",
    "\n",
    "    # Ange den tidsram du vill ha för historiska data\n",
    "    interval = Client.KLINE_INTERVAL_1DAY\n",
    "    start = f\"{MAX_MONTHS} month ago UTC\"\n",
    "\n",
    "    # Hämta close-priser för alla kryptovalutor\n",
    "    dates = None\n",
    "\n",
    "    # progress_bar = st.progress(0)  # Create a progress bar\n",
    "\n",
    "    for idx, symbol in enumerate(symbols):\n",
    "        try:\n",
    "            klines = client.get_historical_klines(\n",
    "                symbol['symbol'], interval, start)\n",
    "            if dates is None:\n",
    "                # Extrahera och konvertera tidsstämplar till datum\n",
    "                dates = [dt.fromtimestamp(\n",
    "                    int(kline[0]) / 1000).strftime('%Y-%m-%d') for kline in klines]\n",
    "            close_prices[symbol['symbol']] = [\n",
    "                float(kline[4]) for kline in klines]\n",
    "        except Exception as e:\n",
    "            print(f\"Kunde inte hämta data för {symbol['symbol']}: {e}\")\n",
    "\n",
    "        # Update the progress bar\n",
    "        if idx+1 == len(symbols):\n",
    "            progress_text = f\"Done! last symbol . . . . . . . . {symbol['symbol']} fetched.\"\n",
    "        else:\n",
    "            progress_text = f\"This will take several minutes. Symbol number {idx+1} of {len(symbols)}: . . . . . . . . {symbol['symbol']}\"\n",
    "        # progress_bar.progress((idx + 1) / len(symbols), progress_text)\n",
    "\n",
    "    # Konvertera close_prices-dikten till en pandas DataFrame\n",
    "    df = pd.DataFrame.from_dict(close_prices, orient='index').transpose()\n",
    "    \n",
    "    df = df.dropna(axis=1,how='all')  # remove columns with all nan\n",
    "    \n",
    "    # Lägg till datum som index för DataFrame\n",
    "    df.index = pd.to_datetime(dates)  # type: ignore\n",
    "    # print(df.head())\n",
    "    \n",
    "    # take the time    \n",
    "    print(\"--- %s seconds ---\" % round((time.time() - start_time),1))\n",
    "    return df\n",
    "\n",
    "df = get_data()\n",
    "df.to_csv('all_tickers.csv', index=False)\n"
   ]
  },
  {
   "cell_type": "code",
   "execution_count": 95,
   "metadata": {},
   "outputs": [
    {
     "name": "stdout",
     "output_type": "stream",
     "text": [
      "(730, 442)\n",
      "(730, 416)\n"
     ]
    },
    {
     "data": {
      "text/plain": [
       "(730, 348)"
      ]
     },
     "execution_count": 95,
     "metadata": {},
     "output_type": "execute_result"
    }
   ],
   "source": [
    "\n",
    "df = pd.read_csv('all_tickers.csv')\n",
    "\n",
    "print(df.shape)\n",
    "# drop all columns where all values are nan\n",
    "df = df.dropna(axis=1,how='all')\n",
    "print(df.shape)\n",
    "\n",
    "df[df.isna().any(axis=1)]\n",
    "\n",
    "s=0.66\n",
    "# remove all columns where there are more than s% nan values\n",
    "    \n",
    "df = df.dropna(axis=1,thresh=int(s*len(df.columns)))\n",
    "\n",
    "df.shape"
   ]
  },
  {
   "cell_type": "code",
   "execution_count": 100,
   "metadata": {},
   "outputs": [
    {
     "data": {
      "text/plain": [
       "481"
      ]
     },
     "execution_count": 100,
     "metadata": {},
     "output_type": "execute_result"
    }
   ],
   "source": [
    "int(730*(s))\n"
   ]
  }
 ],
 "metadata": {
  "kernelspec": {
   "display_name": "base",
   "language": "python",
   "name": "python3"
  },
  "language_info": {
   "codemirror_mode": {
    "name": "ipython",
    "version": 3
   },
   "file_extension": ".py",
   "mimetype": "text/x-python",
   "name": "python",
   "nbconvert_exporter": "python",
   "pygments_lexer": "ipython3",
   "version": "3.9.13"
  },
  "orig_nbformat": 4
 },
 "nbformat": 4,
 "nbformat_minor": 2
}
